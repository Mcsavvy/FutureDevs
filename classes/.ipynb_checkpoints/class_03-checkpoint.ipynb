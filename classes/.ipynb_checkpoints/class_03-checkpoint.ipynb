{
 "cells": [
  {
   "cell_type": "markdown",
   "id": "cbf31adb-c9db-4eaa-8eb0-0c9e03beda4a",
   "metadata": {
    "slideshow": {
     "slide_type": "slide"
    },
    "tags": []
   },
   "source": [
    "# String Methods, Booleans And Control Flow\n",
    "\n",
    "![Python Strings](https://cdn.pimylifeup.com/wp-content/uploads/2020/05/String-in-Python-Thumbnail.png)\n",
    "\n",
    "In this class, you'll learn the following\n",
    "\n",
    "1. What string methods are\n",
    "2. Common string methods\n",
    "\t- Trimming whitespace\n",
    "\t- Converting to uppercase/lowercase/titlecase\n",
    "\t- Finding substrings\n",
    "\t- Replacing substrinds\n",
    "3. How booleans affect our world\n",
    "4. Using booleans\n",
    "\t- Comparison operators (>, <, ==, etc.)\n",
    "\t- Boolean logic (and, or, not)\n",
    "5. Controlling the flow of your program\n",
    "\t- If-else statements\n",
    "\t- If-elif-else statements\n",
    "\t- Using booleans in control flow\n",
    "\n",
    "### BONUS\n",
    "- Accepting input from user"
   ]
  },
  {
   "cell_type": "markdown",
   "id": "f190c5d4-71a3-497f-af1a-53838c88592e",
   "metadata": {
    "slideshow": {
     "slide_type": "subslide"
    }
   },
   "source": [
    "# What Are String Methods"
   ]
  },
  {
   "cell_type": "markdown",
   "id": "58487410-9ed9-4c1c-a121-cd8edd1b06be",
   "metadata": {},
   "source": [
    "## Common String Methods"
   ]
  },
  {
   "cell_type": "markdown",
   "id": "f61d9580-2aef-483a-90df-b8a4e1d24370",
   "metadata": {},
   "source": [
    "### 1. Trimming Whitespace"
   ]
  },
  {
   "cell_type": "code",
   "execution_count": 14,
   "id": "8b7c43c7-a38d-43a3-a431-ef2ca970c862",
   "metadata": {},
   "outputs": [
    {
     "data": {
      "text/plain": [
       "'Doughnut'"
      ]
     },
     "execution_count": 14,
     "metadata": {},
     "output_type": "execute_result"
    }
   ],
   "source": [
    "str_1 = \" Doughnut \"\n",
    "# str_1 = str_1.lstrip()\n",
    "# str_1 = str_1.rstrip()\n",
    "str_1.strip()\n"
   ]
  },
  {
   "cell_type": "markdown",
   "id": "7c328af7",
   "metadata": {},
   "source": [
    "### 2. Converting to uppercase/lowercase/titlecase"
   ]
  },
  {
   "cell_type": "code",
   "execution_count": 19,
   "id": "a9b53487",
   "metadata": {},
   "outputs": [
    {
     "name": "stdout",
     "output_type": "stream",
     "text": [
      "FOOBAR Foobar foobar\n"
     ]
    }
   ],
   "source": [
    "str_2 = \"foobar\"\n",
    "str_3 = \"FOOBAR\"\n",
    "str_4 = \"Foobar\"\n",
    "\n",
    "str_2 = str_2.upper()\n",
    "str_3 = str_3.title()\n",
    "str_4 = str_4.lower()\n",
    "\n",
    "\n",
    "print(str_2, str_3, str_4)"
   ]
  },
  {
   "cell_type": "markdown",
   "id": "80d1509c",
   "metadata": {},
   "source": [
    "### 3. Finding substrings"
   ]
  },
  {
   "cell_type": "code",
   "execution_count": 26,
   "id": "c51288f6",
   "metadata": {},
   "outputs": [
    {
     "name": "stdout",
     "output_type": "stream",
     "text": [
      "11\n"
     ]
    }
   ],
   "source": [
    "string = \"Hello WorlbWorldWorld\"\n",
    "substring = \"World\"\n",
    "print(string.find(substring))\n",
    "# substring = \"Worlb\"\n",
    "# print(string.find(substring))"
   ]
  },
  {
   "cell_type": "markdown",
   "id": "7937bae9",
   "metadata": {},
   "source": [
    "### 4. Replacing substrings"
   ]
  },
  {
   "cell_type": "code",
   "execution_count": 32,
   "id": "e8fa9960",
   "metadata": {
    "scrolled": true
   },
   "outputs": [
    {
     "name": "stdout",
     "output_type": "stream",
     "text": [
      "Hello World World World World World \n",
      "Hello Fooba Fooba Fooba Fooba Fooba \n"
     ]
    }
   ],
   "source": [
    "string = \"Hello \" + (\"World \" * 5)\n",
    "print(string)\n",
    "# 'Hello World World World World World'\n",
    "string = string.replace(\"World\", \"Fooba\")\n",
    "# ''\n",
    "print(string)"
   ]
  },
  {
   "cell_type": "code",
   "execution_count": 35,
   "id": "abcd3184",
   "metadata": {},
   "outputs": [
    {
     "name": "stdout",
     "output_type": "stream",
     "text": [
      "dhidago is the dity of dhoide\n"
     ]
    }
   ],
   "source": [
    "# replace the character 'c' with 'd' in a sentence\n",
    "sentence = \"Chicago is the city of choice\"\n",
    "sentence = sentence.replace('c', 'd')\n",
    "sentence = sentence.lower()\n",
    "sentence = sentence.replace('c', 'd')\n",
    "print(sentence)"
   ]
  },
  {
   "cell_type": "code",
   "execution_count": 39,
   "id": "c73b7cf8",
   "metadata": {},
   "outputs": [
    {
     "name": "stdout",
     "output_type": "stream",
     "text": [
      "chicago is the city of choice\n"
     ]
    }
   ],
   "source": [
    "sentence = sentence.replace('d', 'c')\n",
    "print(sentence)"
   ]
  },
  {
   "cell_type": "markdown",
   "id": "1abd55cf",
   "metadata": {},
   "source": [
    "## How booleans affect our world"
   ]
  },
  {
   "cell_type": "code",
   "execution_count": 41,
   "id": "f273284f",
   "metadata": {},
   "outputs": [
    {
     "name": "stdout",
     "output_type": "stream",
     "text": [
      "False\n"
     ]
    }
   ],
   "source": [
    "yes = True\n",
    "no = False"
   ]
  },
  {
   "cell_type": "markdown",
   "id": "861e9269",
   "metadata": {},
   "source": [
    "## Using booleans"
   ]
  },
  {
   "cell_type": "markdown",
   "id": "ab9c3c01",
   "metadata": {},
   "source": [
    "### 1. Comparison operators (>, <, ==, etc.)"
   ]
  },
  {
   "cell_type": "code",
   "execution_count": 46,
   "id": "252a0e42",
   "metadata": {},
   "outputs": [
    {
     "name": "stdout",
     "output_type": "stream",
     "text": [
      "False\n",
      "True\n",
      "False\n",
      "True\n"
     ]
    }
   ],
   "source": [
    "num_1 = 1024\n",
    "num_2 = 35\n",
    "\n",
    "# greater than\n",
    "answer = num_2 > num_1\n",
    "print(answer)\n",
    "\n",
    "# less than\n",
    "answer = num_2 < num_1\n",
    "print(answer)\n",
    "\n",
    "# equals to\n",
    "answer = num_2 == num_1\n",
    "print(answer)\n",
    "\n",
    "# not equals to\n",
    "answer = num_2 != num_1\n",
    "print(answer)"
   ]
  },
  {
   "cell_type": "markdown",
   "id": "7a8d1c5d",
   "metadata": {},
   "source": [
    "### 2. Boolean logic (and, or, not)"
   ]
  },
  {
   "cell_type": "code",
   "execution_count": 47,
   "id": "1cb5a95c",
   "metadata": {},
   "outputs": [
    {
     "name": "stdout",
     "output_type": "stream",
     "text": [
      "False\n",
      "False\n",
      "False\n",
      "True\n"
     ]
    }
   ],
   "source": [
    "print(True and False)\n",
    "print(False and False)\n",
    "print(False and True)\n",
    "print(True and True)\n",
    "\n",
    "# if what's on my right is true and what's on my left is true, then I am true"
   ]
  },
  {
   "cell_type": "code",
   "execution_count": 50,
   "id": "450b367f",
   "metadata": {},
   "outputs": [
    {
     "name": "stdout",
     "output_type": "stream",
     "text": [
      "False\n",
      "True\n",
      "True\n",
      "True\n"
     ]
    }
   ],
   "source": [
    "print(False or False)\n",
    "print(False or True)\n",
    "print(True or False)\n",
    "print(True or True)\n",
    "\n",
    "\n",
    "# if what's on my left is true or what's on my right is true, then I am true"
   ]
  },
  {
   "cell_type": "code",
   "execution_count": 51,
   "id": "95a6d342",
   "metadata": {},
   "outputs": [
    {
     "name": "stdout",
     "output_type": "stream",
     "text": [
      "False\n",
      "True\n"
     ]
    }
   ],
   "source": [
    "print(not True)\n",
    "print(not False)"
   ]
  },
  {
   "cell_type": "code",
   "execution_count": 63,
   "id": "464460e7",
   "metadata": {},
   "outputs": [
    {
     "data": {
      "text/plain": [
       "False"
      ]
     },
     "execution_count": 63,
     "metadata": {},
     "output_type": "execute_result"
    }
   ],
   "source": [
    "bool()\n",
    "\n",
    "# every empty stuff is False"
   ]
  },
  {
   "cell_type": "markdown",
   "id": "f724949a",
   "metadata": {},
   "source": [
    "## Controlling the flow of your program"
   ]
  },
  {
   "cell_type": "markdown",
   "id": "130ae4a0",
   "metadata": {},
   "source": [
    "### 1. If-else statements\n",
    "\n",
    "```python\n",
    "if <condition>:\n",
    "    do something\n",
    "```"
   ]
  },
  {
   "cell_type": "code",
   "execution_count": 69,
   "id": "df9c2a0b",
   "metadata": {},
   "outputs": [
    {
     "name": "stdout",
     "output_type": "stream",
     "text": [
      "Hi\n"
     ]
    }
   ],
   "source": [
    "if 1 == 10:\n",
    "    print(\"Hey\")\n",
    "else:\n",
    "    print(\"Hi\")"
   ]
  },
  {
   "cell_type": "markdown",
   "id": "ba6fa679",
   "metadata": {},
   "source": [
    "### 2. If-elif-else statements"
   ]
  },
  {
   "cell_type": "code",
   "execution_count": 74,
   "id": "749c51b8",
   "metadata": {},
   "outputs": [
    {
     "name": "stdout",
     "output_type": "stream",
     "text": [
      "senior man\n"
     ]
    }
   ],
   "source": [
    "age = 100\n",
    "if age < 10:\n",
    "    print(\"child\")\n",
    "elif age < 18:\n",
    "    print(\"teenager\")\n",
    "elif age < 30:\n",
    "    print(\"young man\")\n",
    "else:\n",
    "    print(\"senior man\")"
   ]
  },
  {
   "cell_type": "markdown",
   "id": "e19d8637",
   "metadata": {},
   "source": [
    "### 3. Using booleans in control flow"
   ]
  },
  {
   "cell_type": "code",
   "execution_count": null,
   "id": "07a28f73",
   "metadata": {},
   "outputs": [],
   "source": []
  },
  {
   "cell_type": "markdown",
   "id": "0893aa5c",
   "metadata": {},
   "source": [
    "### 4. Accepting input from user"
   ]
  },
  {
   "cell_type": "code",
   "execution_count": 78,
   "id": "940bceb6",
   "metadata": {},
   "outputs": [
    {
     "name": "stdout",
     "output_type": "stream",
     "text": [
      "your name:       mene\n",
      "      mene\n"
     ]
    }
   ],
   "source": [
    "name = input(\"your name: \")\n",
    "print(name)"
   ]
  },
  {
   "cell_type": "markdown",
   "id": "3fd50be1",
   "metadata": {},
   "source": [
    "## Putting It All Together (PRACTICAL!!)\n",
    "Write a program that does the following:\n",
    "1. Asks the user for his firstname\n",
    "2. Trim all whitespaces in the firstname and saves it in a variable\n",
    "3. Asks the user for his lastname\n",
    "4. Trim all whitespaces in the lastname and saves it in a variable\n",
    "5. Asks the user for the time _(available options are 'morning', 'afternoon', 'evening')_\n",
    "6. If the user inputs something that is not one of the choices, print `wrong choice <FirstName>, <LastName>`\n",
    "7. If the user enters something that is in the available options, for example 'afternoon', print `Good afternoon <FirstName> <LastName>`\n",
    "\n",
    "> NOTE: Always print `firstname` and `lastname` in title case."
   ]
  },
  {
   "cell_type": "code",
   "execution_count": 2,
   "id": "2883d330",
   "metadata": {},
   "outputs": [],
   "source": [
    "# KELLY'S CELL"
   ]
  },
  {
   "cell_type": "code",
   "execution_count": 3,
   "id": "050d32ea",
   "metadata": {},
   "outputs": [],
   "source": [
    "# MENE'S CELL"
   ]
  },
  {
   "cell_type": "code",
   "execution_count": 4,
   "id": "01bd6bf5",
   "metadata": {},
   "outputs": [],
   "source": [
    "# ISAAC'S CELL"
   ]
  }
 ],
 "metadata": {
  "kernelspec": {
   "display_name": "Python 3",
   "language": "python",
   "name": "python3"
  },
  "language_info": {
   "codemirror_mode": {
    "name": "ipython",
    "version": 3
   },
   "file_extension": ".py",
   "mimetype": "text/x-python",
   "name": "python",
   "nbconvert_exporter": "python",
   "pygments_lexer": "ipython3",
   "version": "3.10.5"
  }
 },
 "nbformat": 4,
 "nbformat_minor": 5
}
