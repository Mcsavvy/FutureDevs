{
 "cells": [
  {
   "cell_type": "markdown",
   "id": "cbf31adb-c9db-4eaa-8eb0-0c9e03beda4a",
   "metadata": {
    "slideshow": {
     "slide_type": "slide"
    },
    "tags": []
   },
   "source": [
    "# String Methods, Booleans And Control Flow\n",
    "\n",
    "![Python Strings](strings.png)\n",
    "\n",
    "In this class, you'll learn the following\n",
    "\n",
    "1. What string methods are\n",
    "2. Common string methods\n",
    "\t- Trimming whitespace\n",
    "\t- Converting to uppercase/lowercase/titlecase\n",
    "\t- Finding substrings\n",
    "\t- Replacing substrinds\n",
    "3. How booleans affect our world\n",
    "4. Using booleans\n",
    "\t- Comparison operators (>, <, ==, etc.)\n",
    "\t- Boolean logic (and, or, not)\n",
    "5. Controlling the flow of your program\n",
    "\t- If-else statements\n",
    "\t- If-elif-else statements\n",
    "\t- Using booleans in control flow\n",
    "\n",
    "### BONUS\n",
    "- Accepting input from user"
   ]
  },
  {
   "cell_type": "markdown",
   "id": "f190c5d4-71a3-497f-af1a-53838c88592e",
   "metadata": {
    "slideshow": {
     "slide_type": "subslide"
    }
   },
   "source": [
    "# What Are String Methods"
   ]
  },
  {
   "cell_type": "markdown",
   "id": "58487410-9ed9-4c1c-a121-cd8edd1b06be",
   "metadata": {},
   "source": [
    "## Common String Methods"
   ]
  },
  {
   "cell_type": "markdown",
   "id": "f61d9580-2aef-483a-90df-b8a4e1d24370",
   "metadata": {},
   "source": [
    "### Trimming Whitespace\n",
    "- `lstrip()`: I remove all leading whitespaces (_beginning of the string_)\n",
    "- `rstrip()`: I remove all trailing whitespaces (_end of the string_)\n",
    "- `strip()`: I remove all leading and trailing whitespaces (_beginning and end of string_)"
   ]
  },
  {
   "cell_type": "code",
   "execution_count": 8,
   "id": "8b7c43c7-a38d-43a3-a431-ef2ca970c862",
   "metadata": {},
   "outputs": [
    {
     "name": "stdout",
     "output_type": "stream",
     "text": [
      "\n",
      "lstrip():\n",
      "~I have whitespaces at my edges  ~\n",
      "\n",
      "rstrip():\n",
      "~   I have whitespaces at my edges~\n",
      "\n",
      "strip():\n",
      "~I have whitespaces at my edges~\n"
     ]
    }
   ],
   "source": [
    "string = \"   I have whitespaces at my edges  \"\n",
    "\n",
    "print(\"\\nlstrip():\")\n",
    "print('~' + string.lstrip() + '~')\n",
    "\n",
    "print(\"\\nrstrip():\")\n",
    "print('~' + string.rstrip() + '~')\n",
    "\n",
    "print(\"\\nstrip():\")\n",
    "print('~' + string.strip() + '~')"
   ]
  },
  {
   "cell_type": "markdown",
   "id": "7c328af7",
   "metadata": {},
   "source": [
    "### Converting to uppercase/lowercase/titlecase\n",
    "- `upper()`: I convert all letters to uppercase\n",
    "- `lower()`: I convert all letters to lowercase\n",
    "- `title()`: I make every word start with a capital letter."
   ]
  },
  {
   "cell_type": "code",
   "execution_count": 9,
   "id": "a9b53487",
   "metadata": {},
   "outputs": [
    {
     "name": "stdout",
     "output_type": "stream",
     "text": [
      "\n",
      "upper():\n",
      "HELLO WORLD\n",
      "\n",
      "lower():\n",
      "hello world\n",
      "\n",
      "title()\n",
      "Hello World\n"
     ]
    }
   ],
   "source": [
    "string = \"hEllO wORLd\"\n",
    "\n",
    "print(\"\\nupper():\")\n",
    "print(string.upper())\n",
    "\n",
    "print(\"\\nlower():\")\n",
    "print(string.lower())\n",
    "\n",
    "print(\"\\ntitle()\")\n",
    "print(string.title())"
   ]
  },
  {
   "cell_type": "markdown",
   "id": "80d1509c",
   "metadata": {},
   "source": [
    "### Finding substrings\n",
    "- `find(substring)`: I return the index where the first occurrence of `substring` starts."
   ]
  },
  {
   "cell_type": "code",
   "execution_count": 2,
   "id": "c51288f6",
   "metadata": {},
   "outputs": [
    {
     "name": "stdout",
     "output_type": "stream",
     "text": [
      "12\n",
      "6\n"
     ]
    }
   ],
   "source": [
    "string = \"Hello Worlb World World\"\n",
    "substring = \"World\"\n",
    "print(string.find(substring))\n",
    "substring = \"Worlb\"\n",
    "print(string.find(substring))"
   ]
  },
  {
   "cell_type": "markdown",
   "id": "7937bae9",
   "metadata": {},
   "source": [
    "### Replacing substrings\n",
    "- `replace(subs, repl)`. I replace every occurrence of `subs` with `repl`."
   ]
  },
  {
   "cell_type": "code",
   "execution_count": 11,
   "id": "e8fa9960",
   "metadata": {
    "scrolled": true
   },
   "outputs": [
    {
     "name": "stdout",
     "output_type": "stream",
     "text": [
      "Hello World World World World World\n",
      "Hello Echo! Echo! Echo! Echo! Echo!\n"
     ]
    }
   ],
   "source": [
    "string = \"Hello World World World World World\"\n",
    "print(string)\n",
    "\n",
    "string = string.replace(\"World\", \"Echo!\")\n",
    "\n",
    "print(string)"
   ]
  },
  {
   "cell_type": "code",
   "execution_count": 17,
   "id": "abcd3184",
   "metadata": {},
   "outputs": [
    {
     "name": "stdout",
     "output_type": "stream",
     "text": [
      "1 Chicago is the city of choice\n",
      "2 Dhidago is the dity of dhoide\n",
      "3 Chicago is the city of choice\n"
     ]
    }
   ],
   "source": [
    "# replace the character 'c' and 'C' with 'd' and 'D' in a sentence\n",
    "sentence = \"Chicago is the city of choice\"\n",
    "print(1, sentence)\n",
    "\n",
    "sentence = sentence.replace('c', 'd')\n",
    "sentence = sentence.replace('C', 'D')\n",
    "\n",
    "print(2, sentence)\n",
    "\n",
    "sentence = sentence.replace('d', 'c')\n",
    "sentence = sentence.replace('D', 'C')\n",
    "\n",
    "print(3, sentence)"
   ]
  },
  {
   "cell_type": "markdown",
   "id": "1abd55cf",
   "metadata": {},
   "source": [
    "## How booleans affect our world\n",
    "Boolean is a data type that has one of two possible values which is intended to represent the two truth values of logic, True and False.\n",
    "\n",
    "To check the truth value of an object, use the function `bool()` like this:"
   ]
  },
  {
   "cell_type": "code",
   "execution_count": 19,
   "id": "f273284f",
   "metadata": {},
   "outputs": [
    {
     "name": "stdout",
     "output_type": "stream",
     "text": [
      "True: True\n",
      "False: True\n",
      "A string: True\n",
      "An empty string: False\n",
      "A positive number True\n",
      "A negative number: True\n",
      "Zero: False\n"
     ]
    }
   ],
   "source": [
    "print(\"True:\", bool(True))\n",
    "print(\"False:\", bool(True))\n",
    "print(\"A string:\", bool(\"hey there!\"))\n",
    "print(\"An empty string:\", bool(\"\"))\n",
    "print(\"A positive number\", bool(1024))\n",
    "print(\"A negative number:\", bool(-98))\n",
    "print(\"Zero:\", bool(0))"
   ]
  },
  {
   "cell_type": "markdown",
   "id": "861e9269",
   "metadata": {},
   "source": [
    "## Using booleans"
   ]
  },
  {
   "cell_type": "markdown",
   "id": "ab9c3c01",
   "metadata": {},
   "source": [
    "### Comparison operators (>, <, ==, etc.)\n",
    "\n",
    "- **greater than (`>`):** I am `True` if the object on my left is greater than the one on my right.\n",
    "- **less than (`<`):** I am `True` if the object on my right is greater than the one on my right.\n",
    "- **equals to (`==`):** I am `True` if the object on my left and right are equal.\n",
    "- **equals to (`!=`):** I am `True` if the object on my left and right are not equal.\n",
    "- **greater than or equals to (`>=`):** I am `True` if the object on my right is greater than or equal to the one on my right.\n",
    "- **less than or equals to (`<=`):** I am `True` if the object on my right is less than or equal to the one on my right.\n"
   ]
  },
  {
   "cell_type": "code",
   "execution_count": 20,
   "id": "252a0e42",
   "metadata": {},
   "outputs": [
    {
     "name": "stdout",
     "output_type": "stream",
     "text": [
      "a > b: False\n",
      "a < b: True\n",
      "a == b: False\n",
      "a != b: True\n",
      "a >= b: False\n",
      "a <= b: True\n"
     ]
    }
   ],
   "source": [
    "a = 10\n",
    "b = 12\n",
    "\n",
    "print(\"a > b:\", a > b)\n",
    "print(\"a < b:\", a < b)\n",
    "print(\"a == b:\", a == b)\n",
    "print(\"a != b:\", a != b)\n",
    "print(\"a >= b:\", a >= b)\n",
    "print(\"a <= b:\", a <= b)"
   ]
  },
  {
   "cell_type": "markdown",
   "id": "7a8d1c5d",
   "metadata": {},
   "source": [
    "### Boolean logic (and, or, not)\n",
    "- `and`: I am true if and only if what is on my left and what is on my right is true\n",
    "- `or`: I am true if what is on my write is true or what is only my left is true\n",
    "- `not`: I invert a boolean. Give me a false and I'll give you true. Give me a true and I'll give you false.\n",
    "\n",
    "#### and table\n",
    "\n",
    "|left |right|result|\n",
    "|-----|-----|------|\n",
    "|False|False|False |\n",
    "|False|true |False |\n",
    "|true |False|False |\n",
    "|true |true |true  |\n",
    "\n",
    "\n",
    "#### or table\n",
    "\n",
    "|left |right|result|\n",
    "|-----|-----|------|\n",
    "|False|False|False |\n",
    "|False|true |true  |\n",
    "|true |False|true  |\n",
    "|true |true |true  |\n",
    "\n",
    "\n",
    "#### not table\n",
    "\n",
    "|input|output|\n",
    "|-----|-----|\n",
    "|False|true |\n",
    "|true |False|"
   ]
  },
  {
   "cell_type": "code",
   "execution_count": 22,
   "id": "2fd823aa",
   "metadata": {},
   "outputs": [
    {
     "name": "stdout",
     "output_type": "stream",
     "text": [
      "f and f: False\n",
      "f and t: False\n",
      "t and f: False\n",
      "t and t: True\n"
     ]
    }
   ],
   "source": [
    "print(\"f and f:\", False and False)\n",
    "print(\"f and t:\", False and True )\n",
    "print(\"t and f:\", True  and False)\n",
    "print(\"t and t:\", True  and True )"
   ]
  },
  {
   "cell_type": "code",
   "execution_count": 23,
   "id": "450b367f",
   "metadata": {},
   "outputs": [
    {
     "name": "stdout",
     "output_type": "stream",
     "text": [
      "f or f: False\n",
      "f or t: True\n",
      "t or f: True\n",
      "t or t: True\n"
     ]
    }
   ],
   "source": [
    "print(\"f or f:\", False or False)\n",
    "print(\"f or t:\", False or True )\n",
    "print(\"t or f:\", True  or False)\n",
    "print(\"t or t:\", True  or True )"
   ]
  },
  {
   "cell_type": "code",
   "execution_count": 24,
   "id": "95a6d342",
   "metadata": {},
   "outputs": [
    {
     "name": "stdout",
     "output_type": "stream",
     "text": [
      "not f: True\n",
      "not t: False\n"
     ]
    }
   ],
   "source": [
    "print(\"not f:\", not False)\n",
    "print(\"not t:\", not True)"
   ]
  },
  {
   "cell_type": "markdown",
   "id": "f724949a",
   "metadata": {},
   "source": [
    "## Controlling the flow of your program"
   ]
  },
  {
   "cell_type": "markdown",
   "id": "130ae4a0",
   "metadata": {},
   "source": [
    "### If-else statements\n",
    "A condition is just a boolean. The condition must be true for the statement nested under it to be executed.\n",
    "\n",
    "```python\n",
    "if <condition>:\n",
    "    do something...\n",
    "```"
   ]
  },
  {
   "cell_type": "code",
   "execution_count": 69,
   "id": "df9c2a0b",
   "metadata": {},
   "outputs": [
    {
     "name": "stdout",
     "output_type": "stream",
     "text": [
      "Hi\n"
     ]
    }
   ],
   "source": [
    "if 1 == 10:\n",
    "    print(\"Hey\")\n",
    "else:\n",
    "    print(\"Hi\")"
   ]
  },
  {
   "cell_type": "markdown",
   "id": "ba6fa679",
   "metadata": {},
   "source": [
    "### If-elif-else statements\n",
    "You can create multiple cases based on conditions"
   ]
  },
  {
   "cell_type": "code",
   "execution_count": 74,
   "id": "749c51b8",
   "metadata": {},
   "outputs": [
    {
     "name": "stdout",
     "output_type": "stream",
     "text": [
      "senior man\n"
     ]
    }
   ],
   "source": [
    "age = 100\n",
    "if age < 10:\n",
    "    print(\"child\")\n",
    "elif age < 18:\n",
    "    print(\"teenager\")\n",
    "elif age < 30:\n",
    "    print(\"young man\")\n",
    "else:\n",
    "    print(\"senior man\")"
   ]
  },
  {
   "cell_type": "markdown",
   "id": "0893aa5c",
   "metadata": {},
   "source": [
    "### Accepting input from user"
   ]
  },
  {
   "cell_type": "code",
   "execution_count": 25,
   "id": "940bceb6",
   "metadata": {},
   "outputs": [
    {
     "name": "stdout",
     "output_type": "stream",
     "text": [
      "your name: John Doe\n",
      "John Doe\n"
     ]
    }
   ],
   "source": [
    "name = input(\"your name: \")\n",
    "print(name)"
   ]
  },
  {
   "cell_type": "markdown",
   "id": "3fd50be1",
   "metadata": {},
   "source": [
    "## Putting It All Together (PRACTICAL!!)\n",
    "\n",
    "Write a program that does the following:\n",
    "\n",
    "- Asks the user for his firstname\n",
    "- Trim all whitespaces in the firstname and saves it in a variable\n",
    "- Asks the user for his lastname\n",
    "- Trim all whitespaces in the lastname and saves it in a variable\n",
    "- Asks the user for the time _(available options are 'morning', 'afternoon', 'evening')_\n",
    "- If the user inputs something that is not one of the choices, print \"Wrong choice `firstname`, `lastname`\"\n",
    "- If the user enters something that is in the available options, for example 'afternoon', print \"Good afternoon `firstname` `lastname`\"\n",
    "\n",
    "> NOTE: Always print `firstname` and `lastname` in title case e.g \"John Doe\"."
   ]
  }
 ],
 "metadata": {
  "kernelspec": {
   "display_name": "Python 3",
   "language": "python",
   "name": "python3"
  },
  "language_info": {
   "codemirror_mode": {
    "name": "ipython",
    "version": 3
   },
   "file_extension": ".py",
   "mimetype": "text/x-python",
   "name": "python",
   "nbconvert_exporter": "python",
   "pygments_lexer": "ipython3",
   "version": "3.10.5"
  }
 },
 "nbformat": 4,
 "nbformat_minor": 5
}
